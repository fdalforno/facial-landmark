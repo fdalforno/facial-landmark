{
 "cells": [
  {
   "cell_type": "markdown",
   "metadata": {},
   "source": [
    "Facial landmark per progetto deathmask"
   ]
  },
  {
   "cell_type": "code",
   "execution_count": null,
   "metadata": {},
   "outputs": [],
   "source": [
    "import cv2\n",
    "print(cv2.__version__)"
   ]
  },
  {
   "cell_type": "code",
   "execution_count": null,
   "metadata": {},
   "outputs": [],
   "source": [
    "import numpy as np\n",
    "import cv2\n",
    " \n",
    "cap = cv2.VideoCapture(0)\n",
    " \n",
    "while(True):\n",
    "    # Cattura fotogramma per fotogramma\n",
    "    ret, frame = cap.read()\n",
    " \n",
    "    # Le nostre operazioni sul frame vengono qui\n",
    "    gray = cv2.cvtColor(frame, cv2.COLOR_BGR2GRAY)\n",
    " \n",
    "    # Visualizza il frame risultante\n",
    "    cv2.imshow('frame',gray)\n",
    "    if cv2.waitKey(1) & 0xFF == ord('q'):\n",
    "        break\n",
    " \n",
    "# Al termine, rilasciare il tappo di acquisizione\n",
    "cap.release()\n",
    "cv2.destroyAllWindows()"
   ]
  },
  {
   "cell_type": "code",
   "execution_count": null,
   "metadata": {},
   "outputs": [],
   "source": [
    "%matplotlib inline\n",
    "import matplotlib.pyplot as plt\n",
    "plt.imshow(gray,cmap='gray', vmin=0, vmax=255)"
   ]
  },
  {
   "cell_type": "code",
   "execution_count": null,
   "metadata": {},
   "outputs": [],
   "source": [
    "from faceDetector import detectFace,detectEyes,getLandmark,extractLandmark\n",
    "faces = detectFace(gray)\n",
    "\n",
    "print(\"Ho trovate {0} facce \".format(len(faces)))\n",
    "\n",
    "if(len(faces) == 1):\n",
    "    print(\"eseguo il ritaglio dell'immagine\")\n",
    "    (x,y,w,d) = faces[0]\n",
    "    #cv2.rectangle(gray,(x,y),(x+w, y+d),(255, 255, 255), 2)\n",
    "    cropped = gray[y:y+d, x:x+w]\n"
   ]
  },
  {
   "cell_type": "code",
   "execution_count": null,
   "metadata": {},
   "outputs": [],
   "source": [
    "plt.imshow(cropped,cmap='gray', vmin=0, vmax=255)"
   ]
  },
  {
   "cell_type": "code",
   "execution_count": null,
   "metadata": {},
   "outputs": [],
   "source": [
    "import math  \n",
    "def calculateDistance(start,end):  \n",
    "     dist = math.sqrt((start[1] - start[0])**2 + (end[1] - end[0])**2)  \n",
    "     return dist  "
   ]
  },
  {
   "cell_type": "code",
   "execution_count": null,
   "metadata": {},
   "outputs": [],
   "source": [
    "landmarks = getLandmark(gray,faces)\n",
    "\n",
    "#print(landmarks)\n",
    "\n",
    "test_mark = extractLandmark(landmarks)\n",
    "\n",
    "#print(test_mark)\n",
    "\n",
    "gray_test = gray.copy()\n",
    "detect_image = cv2.cvtColor(gray_test,cv2.COLOR_GRAY2BGR)\n",
    "\n",
    "thickness = 2\n",
    "\n",
    "nose_vertical = test_mark['nose_vertical']\n",
    "nose_vertical_start = nose_vertical[0][0],nose_vertical[0][1]\n",
    "nose_vertical_end = nose_vertical[1][0],nose_vertical[1][1]\n",
    "nose_vertical_color = (0, 255, 0) \n",
    "\n",
    "mouth_orizontal = test_mark['mouth_orizontal']\n",
    "mouth_orizontal_start = mouth_orizontal[0][0],mouth_orizontal[0][1]\n",
    "mouth_orizontal_end = mouth_orizontal[1][0],mouth_orizontal[1][1]\n",
    "mouth_orizontal_color = (0, 0, 255)\n",
    "\n",
    "eyes_orizontal = test_mark['eyes_orizontal']\n",
    "eyes_orizontal_start = eyes_orizontal[0][0],eyes_orizontal[0][1]\n",
    "eyes_orizontal_end = eyes_orizontal[1][0],eyes_orizontal[1][1]\n",
    "eyes_orizontal_color = (255, 255, 255)\n",
    "\n",
    "detect_image = cv2.line(detect_image, nose_vertical_start, nose_vertical_end, nose_vertical_color, thickness) \n",
    "detect_image = cv2.line(detect_image, mouth_orizontal_start, mouth_orizontal_end, mouth_orizontal_color, thickness) \n",
    "detect_image = cv2.line(detect_image, eyes_orizontal_start, eyes_orizontal_end, eyes_orizontal_color, thickness) \n",
    "\n",
    "detect_image = cv2.cvtColor(detect_image,cv2.COLOR_BGR2RGB)\n",
    "detect_image = detect_image[y:y+d, x:x+w]\n",
    "\n",
    "interpupillar = 65.0\n",
    "eye_dist = calculateDistance(eyes_orizontal_start,eyes_orizontal_end)\n",
    "print(eye_dist)\n",
    "\n",
    "mouth_dist = calculateDistance(mouth_orizontal_start,mouth_orizontal_end)\n",
    "nose_dist = calculateDistance(nose_vertical_start,nose_vertical_end)\n",
    "\n",
    "mult = interpupillar / eye_dist\n",
    "\n",
    "print(\"Lunghezza linea naso {0:.2f} mm linea bocca {1:.2f} mm\".format(nose_dist * mult, mouth_dist * mult))\n",
    "\n",
    "plt.imshow(detect_image)"
   ]
  },
  {
   "cell_type": "code",
   "execution_count": null,
   "metadata": {},
   "outputs": [],
   "source": [
    "filename = 'facial.jpg'\n",
    "cv2.imwrite(filename, detect_image) "
   ]
  },
  {
   "cell_type": "code",
   "execution_count": null,
   "metadata": {},
   "outputs": [],
   "source": []
  },
  {
   "cell_type": "code",
   "execution_count": null,
   "metadata": {},
   "outputs": [],
   "source": []
  }
 ],
 "metadata": {
  "kernelspec": {
   "display_name": "Python 3",
   "language": "python",
   "name": "python3"
  },
  "language_info": {
   "codemirror_mode": {
    "name": "ipython",
    "version": 3
   },
   "file_extension": ".py",
   "mimetype": "text/x-python",
   "name": "python",
   "nbconvert_exporter": "python",
   "pygments_lexer": "ipython3",
   "version": "3.7.7"
  }
 },
 "nbformat": 4,
 "nbformat_minor": 4
}
